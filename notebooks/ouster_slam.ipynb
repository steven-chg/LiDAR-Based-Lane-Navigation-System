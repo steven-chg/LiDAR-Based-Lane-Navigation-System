{
 "cells": [
  {
   "cell_type": "code",
   "execution_count": null,
   "metadata": {},
   "outputs": [
    {
     "ename": "SourceURLException",
     "evalue": "Failed to create scan_source for url ['D:\\\\484_final_project\\\\ouster_data\\\\raw_pcap\\\\20241118_1518_OS-1-128_122344001164.json']\nmore details: ('Expecting', ['.pcap', '.osf', '.bag', '.csv', '.ply', '.pcd', '.las'])",
     "output_type": "error",
     "traceback": [
      "\u001b[1;31m---------------------------------------------------------------------------\u001b[0m",
      "\u001b[1;31mKeyError\u001b[0m                                  Traceback (most recent call last)",
      "File \u001b[1;32mc:\\Users\\Bryan\\anaconda3\\envs\\lidar_env\\lib\\site-packages\\ouster\\sdk\\io_type.py:43\u001b[0m, in \u001b[0;36mio_type_from_extension\u001b[1;34m(source)\u001b[0m\n\u001b[0;32m     42\u001b[0m \u001b[38;5;28;01mtry\u001b[39;00m:\n\u001b[1;32m---> 43\u001b[0m     \u001b[38;5;28;01mreturn\u001b[39;00m \u001b[43mOusterIoType\u001b[49m\u001b[38;5;241;43m.\u001b[39;49m\u001b[43mextension_2_io_type\u001b[49m\u001b[43m(\u001b[49m\u001b[43m)\u001b[49m\u001b[43m[\u001b[49m\u001b[43mext\u001b[49m\u001b[38;5;241;43m.\u001b[39;49m\u001b[43mlower\u001b[49m\u001b[43m(\u001b[49m\u001b[43m)\u001b[49m\u001b[43m]\u001b[49m\n\u001b[0;32m     44\u001b[0m \u001b[38;5;28;01mexcept\u001b[39;00m \u001b[38;5;167;01mKeyError\u001b[39;00m:\n",
      "\u001b[1;31mKeyError\u001b[0m: '.json'",
      "\nDuring handling of the above exception, another exception occurred:\n",
      "\u001b[1;31mValueError\u001b[0m                                Traceback (most recent call last)",
      "File \u001b[1;32mc:\\Users\\Bryan\\anaconda3\\envs\\lidar_env\\lib\\site-packages\\ouster\\sdk\\open_source.py:80\u001b[0m, in \u001b[0;36mopen_source\u001b[1;34m(source_url, sensor_idx, extrinsics, *args, **kwargs)\u001b[0m\n\u001b[0;32m     79\u001b[0m \u001b[38;5;28;01mtry\u001b[39;00m:\n\u001b[1;32m---> 80\u001b[0m     source_type \u001b[38;5;241m=\u001b[39m \u001b[43mouster\u001b[49m\u001b[38;5;241;43m.\u001b[39;49m\u001b[43msdk\u001b[49m\u001b[38;5;241;43m.\u001b[39;49m\u001b[43mio_type\u001b[49m\u001b[38;5;241;43m.\u001b[39;49m\u001b[43mio_type\u001b[49m\u001b[43m(\u001b[49m\u001b[43mfirst_url\u001b[49m\u001b[43m)\u001b[49m\n\u001b[0;32m     81\u001b[0m     handler \u001b[38;5;241m=\u001b[39m io_type_handlers[source_type]\n",
      "File \u001b[1;32mc:\\Users\\Bryan\\anaconda3\\envs\\lidar_env\\lib\\site-packages\\ouster\\sdk\\io_type.py:52\u001b[0m, in \u001b[0;36mio_type\u001b[1;34m(source)\u001b[0m\n\u001b[0;32m     51\u001b[0m \u001b[38;5;28;01mif\u001b[39;00m os\u001b[38;5;241m.\u001b[39mpath\u001b[38;5;241m.\u001b[39misfile(source):\n\u001b[1;32m---> 52\u001b[0m     \u001b[38;5;28;01mreturn\u001b[39;00m \u001b[43mio_type_from_extension\u001b[49m\u001b[43m(\u001b[49m\u001b[43msource\u001b[49m\u001b[43m)\u001b[49m\n\u001b[0;32m     53\u001b[0m \u001b[38;5;28;01mif\u001b[39;00m os\u001b[38;5;241m.\u001b[39mpath\u001b[38;5;241m.\u001b[39misdir(source) \u001b[38;5;129;01mand\u001b[39;00m io_type_from_extension(source) \u001b[38;5;241m==\u001b[39m OusterIoType\u001b[38;5;241m.\u001b[39mBAG:\n",
      "File \u001b[1;32mc:\\Users\\Bryan\\anaconda3\\envs\\lidar_env\\lib\\site-packages\\ouster\\sdk\\io_type.py:45\u001b[0m, in \u001b[0;36mio_type_from_extension\u001b[1;34m(source)\u001b[0m\n\u001b[0;32m     44\u001b[0m \u001b[38;5;28;01mexcept\u001b[39;00m \u001b[38;5;167;01mKeyError\u001b[39;00m:\n\u001b[1;32m---> 45\u001b[0m     \u001b[38;5;28;01mraise\u001b[39;00m \u001b[38;5;167;01mValueError\u001b[39;00m(\u001b[38;5;124m\"\u001b[39m\u001b[38;5;124mExpecting\u001b[39m\u001b[38;5;124m\"\u001b[39m, \u001b[38;5;28mlist\u001b[39m(\n\u001b[0;32m     46\u001b[0m         OusterIoType\u001b[38;5;241m.\u001b[39mextension_2_io_type()\u001b[38;5;241m.\u001b[39mkeys()))\n",
      "\u001b[1;31mValueError\u001b[0m: ('Expecting', ['.pcap', '.osf', '.bag', '.csv', '.ply', '.pcd', '.las'])",
      "\nDuring handling of the above exception, another exception occurred:\n",
      "\u001b[1;31mSourceURLException\u001b[0m                        Traceback (most recent call last)",
      "Cell \u001b[1;32mIn[1], line 8\u001b[0m\n\u001b[0;32m      6\u001b[0m \u001b[38;5;66;03m# Open the PCAP file\u001b[39;00m\n\u001b[0;32m      7\u001b[0m source_file_path \u001b[38;5;241m=\u001b[39m \u001b[38;5;124mr\u001b[39m\u001b[38;5;124m\"\u001b[39m\u001b[38;5;124mD:\u001b[39m\u001b[38;5;124m\\\u001b[39m\u001b[38;5;124m484_final_project\u001b[39m\u001b[38;5;124m\\\u001b[39m\u001b[38;5;124mouster_data\u001b[39m\u001b[38;5;124m\\\u001b[39m\u001b[38;5;124mraw_pcap\u001b[39m\u001b[38;5;124m\\\u001b[39m\u001b[38;5;124m20241118_1518_OS-1-128_122344001164.json\u001b[39m\u001b[38;5;124m\"\u001b[39m\n\u001b[1;32m----> 8\u001b[0m data_source \u001b[38;5;241m=\u001b[39m \u001b[43mopen_source\u001b[49m\u001b[43m(\u001b[49m\u001b[43msource_file_path\u001b[49m\u001b[43m,\u001b[49m\u001b[43m \u001b[49m\u001b[43msensor_idx\u001b[49m\u001b[38;5;241;43m=\u001b[39;49m\u001b[38;5;241;43m-\u001b[39;49m\u001b[38;5;241;43m1\u001b[39;49m\u001b[43m)\u001b[49m\n\u001b[0;32m     10\u001b[0m \u001b[38;5;66;03m# Initialize SLAM\u001b[39;00m\n\u001b[0;32m     11\u001b[0m slam \u001b[38;5;241m=\u001b[39m KissBackend(data_source\u001b[38;5;241m.\u001b[39mmetadata, max_range\u001b[38;5;241m=\u001b[39m\u001b[38;5;241m75\u001b[39m, min_range\u001b[38;5;241m=\u001b[39m\u001b[38;5;241m1\u001b[39m, voxel_size\u001b[38;5;241m=\u001b[39m\u001b[38;5;241m1.0\u001b[39m)\n",
      "File \u001b[1;32mc:\\Users\\Bryan\\anaconda3\\envs\\lidar_env\\lib\\site-packages\\ouster\\sdk\\open_source.py:88\u001b[0m, in \u001b[0;36mopen_source\u001b[1;34m(source_url, sensor_idx, extrinsics, *args, **kwargs)\u001b[0m\n\u001b[0;32m     85\u001b[0m     \u001b[38;5;28;01mraise\u001b[39;00m \u001b[38;5;167;01mNotImplementedError\u001b[39;00m(\n\u001b[0;32m     86\u001b[0m         \u001b[38;5;124mf\u001b[39m\u001b[38;5;124m\"\u001b[39m\u001b[38;5;124mThe io_type:\u001b[39m\u001b[38;5;132;01m{\u001b[39;00msource_type\u001b[38;5;132;01m}\u001b[39;00m\u001b[38;5;124m is not supported!\u001b[39m\u001b[38;5;124m\"\u001b[39m)\n\u001b[0;32m     87\u001b[0m \u001b[38;5;28;01mexcept\u001b[39;00m \u001b[38;5;167;01mException\u001b[39;00m \u001b[38;5;28;01mas\u001b[39;00m ex:\n\u001b[1;32m---> 88\u001b[0m     \u001b[38;5;28;01mraise\u001b[39;00m SourceURLException(ex, source_url \u001b[38;5;28;01mif\u001b[39;00m \u001b[38;5;28mtype\u001b[39m(source_url) \u001b[38;5;129;01mis\u001b[39;00m \u001b[38;5;28mlist\u001b[39m \u001b[38;5;28;01melse\u001b[39;00m [source_url])  \u001b[38;5;66;03m# type: ignore\u001b[39;00m\n\u001b[0;32m     90\u001b[0m \u001b[38;5;28;01mif\u001b[39;00m scan_source \u001b[38;5;129;01mis\u001b[39;00m \u001b[38;5;28;01mNone\u001b[39;00m:\n\u001b[0;32m     91\u001b[0m     \u001b[38;5;28;01mraise\u001b[39;00m \u001b[38;5;167;01mRuntimeError\u001b[39;00m(\n\u001b[0;32m     92\u001b[0m         \u001b[38;5;124mf\u001b[39m\u001b[38;5;124m\"\u001b[39m\u001b[38;5;124mFailed to create scan_source for url \u001b[39m\u001b[38;5;132;01m{\u001b[39;00msource_url\u001b[38;5;132;01m}\u001b[39;00m\u001b[38;5;124m\"\u001b[39m)\n",
      "\u001b[1;31mSourceURLException\u001b[0m: Failed to create scan_source for url ['D:\\\\484_final_project\\\\ouster_data\\\\raw_pcap\\\\20241118_1518_OS-1-128_122344001164.json']\nmore details: ('Expecting', ['.pcap', '.osf', '.bag', '.csv', '.ply', '.pcd', '.las'])"
     ]
    }
   ],
   "source": [
    "from ouster.sdk import open_source\n",
    "from ouster.sdk.mapping.slam import KissBackend\n",
    "import ouster.sdk.client as client\n",
    "import numpy as np\n",
    "\n",
    "# Open the PCAP file\n",
    "source_file_path = r\"D:\\484_final_project\\ouster_data\\raw_pcap\\20241118_1518_OS-1-128_122344001164.pcap\"\n",
    "data_source = open_source(source_file_path, sensor_idx=-1)\n",
    "\n",
    "# Initialize SLAM\n",
    "slam = KissBackend(data_source.metadata, max_range=75, min_range=1, voxel_size=1.0)\n",
    "\n",
    "# Create xyz lookup table\n",
    "xyz_lut = client.XYZLut(data_source.metadata[0])\n",
    "\n",
    "# Initialize parameters\n",
    "n_channels = data_source.metadata[0].format.pixels_per_column\n",
    "n_points = data_source.metadata[0].format.columns_per_frame\n",
    "print(n_points)\n",
    "n_attributes = 7\n",
    "\n",
    "# Count frames and reinitialize\n",
    "frame_count = sum(1 for _ in data_source)\n",
    "data_source = open_source(source_file_path, sensor_idx=-1)\n",
    "\n",
    "# Initialize output arrays for both global and local coordinates\n",
    "lidar_data_global = np.zeros((frame_count, n_channels, n_points, n_attributes))\n",
    "lidar_data_local = np.zeros((frame_count, n_channels, n_points, n_attributes))\n",
    "\n",
    "# Process each frame\n",
    "for frame_idx, scans in enumerate(data_source):\n",
    "    # Update SLAM\n",
    "    scans_w_poses = slam.update(scans)\n",
    "    if not scans_w_poses:\n",
    "        continue\n",
    "    \n",
    "    scan = scans_w_poses[0]\n",
    "    \n",
    "    # Get xyz points in sensor frame\n",
    "    xyz_points = xyz_lut(scan)  # (H x W x 3)\n",
    "    \n",
    "    # Get poses from SLAM for global coordinates\n",
    "    poses = scan.pose  # List of 1024 poses (one per column)\n",
    "    \n",
    "    # Transform points using SLAM poses\n",
    "    xyz_global = np.zeros_like(xyz_points)\n",
    "    for col in range(xyz_points.shape[1]):\n",
    "        pose = poses[col]  # Get pose for this column\n",
    "        points = xyz_points[:, col, :]  # Get points for this column (H x 3)\n",
    "        # Apply transformation: R * points + t\n",
    "        xyz_global[:, col, :] = (pose[:3, :3] @ points.T).T + pose[:3, 3]\n",
    "    \n",
    "    # Get other fields\n",
    "    ranges = scan.field(client.ChanField.RANGE)\n",
    "    reflectivity = scan.field(client.ChanField.REFLECTIVITY)\n",
    "    signal = scan.field(client.ChanField.SIGNAL)\n",
    "    near_ir = scan.field(client.ChanField.NEAR_IR)\n",
    "    \n",
    "    # # Store data for global coordinates\n",
    "    lidar_data_global[frame_idx, :, :, 0:3] = xyz_global  # Global coordinates from SLAM\n",
    "    lidar_data_global[frame_idx, :, :, 3] = reflectivity\n",
    "    lidar_data_global[frame_idx, :, :, 4] = ranges\n",
    "    lidar_data_global[frame_idx, :, :, 5] = signal\n",
    "    lidar_data_global[frame_idx, :, :, 6] = near_ir\n",
    "    \n",
    "    # Store data for local coordinates\n",
    "    lidar_data_local[frame_idx, :, :, 0:3] = xyz_points  # Local coordinates without transformation\n",
    "    lidar_data_local[frame_idx, :, :, 3] = reflectivity\n",
    "    lidar_data_local[frame_idx, :, :, 4] = ranges\n",
    "    lidar_data_local[frame_idx, :, :, 5] = signal\n",
    "    lidar_data_local[frame_idx, :, :, 6] = near_ir\n",
    "    \n",
    "    if frame_idx % 10 == 0:\n",
    "        print(f\"Processed frame {frame_idx}/{frame_count}\")\n",
    "\n",
    "# Save both arrays\n",
    "# np.save(\"slam07_mapping_global.npy\", lidar_data_global)\n",
    "np.save(r\"D:\\484_final_project\\processed_point_cloud\\slam06_mapping_global.npy\", lidar_data_global)\n",
    "np.save(r\"D:\\484_final_project\\processed_point_cloud\\slam06_mapping_local.npy\", lidar_data_local)"
   ]
  },
  {
   "cell_type": "code",
   "execution_count": 2,
   "metadata": {},
   "outputs": [
    {
     "data": {
      "text/plain": [
       "(585, 128, 2048, 7)"
      ]
     },
     "execution_count": 2,
     "metadata": {},
     "output_type": "execute_result"
    }
   ],
   "source": [
    "lidar_data_local.shape"
   ]
  },
  {
   "cell_type": "code",
   "execution_count": 4,
   "metadata": {},
   "outputs": [
    {
     "name": "stdout",
     "output_type": "stream",
     "text": [
      "loading metadata from ['D:\\\\484_final_project\\\\ouster_data\\\\raw_pcap\\\\20241116_0851_OS-1-128_122344001164.json']\n"
     ]
    }
   ],
   "source": [
    "source_file_path = r\"D:\\484_final_project\\ouster_data\\raw_pcap\\20241116_0851_OS-1-128_122344001164.pcap\"\n",
    "data_source = open_source(source_file_path, sensor_idx=-1)"
   ]
  },
  {
   "cell_type": "code",
   "execution_count": 7,
   "metadata": {},
   "outputs": [
    {
     "ename": "TypeError",
     "evalue": "'ouster.sdk._bindings.client.SensorInfo' object is not iterable",
     "output_type": "error",
     "traceback": [
      "\u001b[1;31m---------------------------------------------------------------------------\u001b[0m",
      "\u001b[1;31mTypeError\u001b[0m                                 Traceback (most recent call last)",
      "Cell \u001b[1;32mIn[7], line 1\u001b[0m\n\u001b[1;32m----> 1\u001b[0m \u001b[38;5;28;01mfor\u001b[39;00m info \u001b[38;5;129;01min\u001b[39;00m data_source\u001b[38;5;241m.\u001b[39mmetadata[\u001b[38;5;241m0\u001b[39m]:\n\u001b[0;32m      2\u001b[0m     \u001b[38;5;28mprint\u001b[39m(info)\n",
      "\u001b[1;31mTypeError\u001b[0m: 'ouster.sdk._bindings.client.SensorInfo' object is not iterable"
     ]
    }
   ],
   "source": [
    "for info in data_source.metadata[0]:\n",
    "    print(info)"
   ]
  }
 ],
 "metadata": {
  "kernelspec": {
   "display_name": "lidar_env",
   "language": "python",
   "name": "python3"
  },
  "language_info": {
   "codemirror_mode": {
    "name": "ipython",
    "version": 3
   },
   "file_extension": ".py",
   "mimetype": "text/x-python",
   "name": "python",
   "nbconvert_exporter": "python",
   "pygments_lexer": "ipython3",
   "version": "3.8.20"
  }
 },
 "nbformat": 4,
 "nbformat_minor": 2
}
