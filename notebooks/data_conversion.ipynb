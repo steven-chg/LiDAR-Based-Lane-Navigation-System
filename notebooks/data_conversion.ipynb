{
 "cells": [
  {
   "cell_type": "code",
   "execution_count": 2,
   "metadata": {},
   "outputs": [
    {
     "name": "stdout",
     "output_type": "stream",
     "text": [
      "Shape of the point cloud data: (408, 128, 1024, 7)\n"
     ]
    }
   ],
   "source": [
    "import numpy as np\n",
    "\n",
    "# Load the .npy file\n",
    "# pointcloud_data = np.load('/Users/stevenymchang/Downloads/slam01_laneline_label.npy')\n",
    "pointcloud_data = np.load('/Users/stevenymchang/Downloads/slam01_lidar_pointcloud.npy')\n",
    "\n",
    "# Print the shape of the data (frames, channels, points, attributes)\n",
    "print(\"Shape of the point cloud data:\", pointcloud_data.shape)"
   ]
  },
  {
   "cell_type": "code",
   "execution_count": 3,
   "metadata": {},
   "outputs": [
    {
     "name": "stdout",
     "output_type": "stream",
     "text": [
      "Conversion complete.\n"
     ]
    }
   ],
   "source": [
    "# converting data\n",
    "import numpy as np\n",
    "import os\n",
    "\n",
    "# Load your data (shape: 408, 128, 1024, 7)\n",
    "data = np.load('/Users/stevenymchang/Downloads/slam01_mapping_local.npy') \n",
    "\n",
    "# Directory for output\n",
    "output_dir = \"/Users/stevenymchang/Desktop/ECE 484/Final Project/dataset/sequences/00/velodyne\"\n",
    "os.makedirs(output_dir, exist_ok=True)\n",
    "max = 65535.0\n",
    "\n",
    "# Iterate over each frame and process\n",
    "for frame_idx in range(data.shape[0]):\n",
    "    frame_data = data[frame_idx]  # Shape (128, 1024, 7)\n",
    "    \n",
    "    # Extract x, y, z, and near IR (attributes 0, 1, 2, and 6)\n",
    "    points = frame_data[:, :, [0, 1, 2, 6]]\n",
    "    \n",
    "    # Normalize near IR (attribute 6) to be between 0 and 1\n",
    "    near_ir = points[:, :, 3]\n",
    "    points[:, :, 3] = near_ir / max\n",
    "    \n",
    "    # Flatten channels and points to get shape (131072, 4)\n",
    "    points = points.reshape(-1, 4)\n",
    "    \n",
    "    # Ensure the data is of type float32 for compatibility\n",
    "    points = points.astype(np.float32)\n",
    "    \n",
    "    # Save each frame to a .bin file\n",
    "    output_path = os.path.join(output_dir, f\"{str(frame_idx).zfill(6)}.bin\")\n",
    "    points.tofile(output_path)\n",
    "\n",
    "print(\"Conversion complete.\")"
   ]
  },
  {
   "cell_type": "code",
   "execution_count": null,
   "metadata": {},
   "outputs": [],
   "source": [
    "# converting label\n",
    "import numpy as np\n",
    "import os\n",
    "\n",
    "# Load your labels data (shape: 407, 128, 1024)\n",
    "labels = np.load('/Users/stevenymchang/Downloads/slam01_laneline_label.npy')\n",
    "\n",
    "# Directory for output\n",
    "output_dir = \"/Users/stevenymchang/Desktop/ECE\\ 484/Final\\ Project/dataset/sequences/00/labels\"\n",
    "os.makedirs(output_dir, exist_ok=True)\n",
    "\n",
    "# Iterate over each frame and flatten the channels and points\n",
    "for frame_idx in range(labels.shape[0]):\n",
    "    frame_labels = labels[frame_idx]  # Shape (128, 1024)\n",
    "    \n",
    "    # Flatten the (128, 1024) to (131072,) for each frame\n",
    "    flattened_labels = frame_labels.reshape(-1)  # Shape (131072,)\n",
    "    \n",
    "    # Ensure labels are stored as integers\n",
    "    flattened_labels = flattened_labels.astype(np.int32)\n",
    "    \n",
    "    # Save the flattened labels as a .bin file\n",
    "    labels_output_path = os.path.join(output_dir, f\"{str(frame_idx).zfill(6)}.label\")\n",
    "    flattened_labels.tofile(labels_output_path)\n",
    "\n",
    "print(\"Label conversion complete.\")"
   ]
  }
 ],
 "metadata": {
  "kernelspec": {
   "display_name": "Python 3",
   "language": "python",
   "name": "python3"
  },
  "language_info": {
   "codemirror_mode": {
    "name": "ipython",
    "version": 3
   },
   "file_extension": ".py",
   "mimetype": "text/x-python",
   "name": "python",
   "nbconvert_exporter": "python",
   "pygments_lexer": "ipython3",
   "version": "3.9.6"
  }
 },
 "nbformat": 4,
 "nbformat_minor": 2
}
