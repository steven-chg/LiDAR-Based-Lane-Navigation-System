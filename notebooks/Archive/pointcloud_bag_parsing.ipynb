{
 "cells": [
  {
   "cell_type": "code",
   "execution_count": 2,
   "metadata": {},
   "outputs": [
    {
     "name": "stdout",
     "output_type": "stream",
     "text": [
      "[INFO]  Data folder C:\\Users\\Bryan\\Desktop\\ece484\\Final_Project\\rosbag\\_2024-10-31-10-09-05 already exists. Not creating.\n",
      "                                                Topics  \\\n",
      "0             /camera_fl/arena_camera_node/camera_info   \n",
      "1    /camera_fl/arena_camera_node/grab_images_raw/s...   \n",
      "2               /camera_fl/arena_camera_node/image_raw   \n",
      "3    /camera_fl/arena_camera_node/image_raw/compressed   \n",
      "4    /camera_fl/arena_camera_node/image_raw/compres...   \n",
      "..                                                 ...   \n",
      "242  /zed2/zed_node/stereo_raw/image_raw_color/theo...   \n",
      "243  /zed2/zed_node/stereo_raw/image_raw_color/theo...   \n",
      "244                     /zed2/zed_node/temperature/imu   \n",
      "245                    /zed2/zed_node/temperature/left   \n",
      "246                   /zed2/zed_node/temperature/right   \n",
      "\n",
      "                                     Types  Message Count   Frequency  \n",
      "0                   sensor_msgs/CameraInfo            131    3.180438  \n",
      "1           actionlib_msgs/GoalStatusArray            174    4.847393  \n",
      "2                        sensor_msgs/Image            130    3.044692  \n",
      "3              sensor_msgs/CompressedImage            129    2.942667  \n",
      "4    dynamic_reconfigure/ConfigDescription              1         NaN  \n",
      "..                                     ...            ...         ...  \n",
      "242  dynamic_reconfigure/ConfigDescription              1         NaN  \n",
      "243             dynamic_reconfigure/Config              1         NaN  \n",
      "244                sensor_msgs/Temperature          10450  402.485750  \n",
      "245                sensor_msgs/Temperature            843   20.994772  \n",
      "246                sensor_msgs/Temperature            838   20.771902  \n",
      "\n",
      "[247 rows x 4 columns]\n"
     ]
    }
   ],
   "source": [
    "import bagpy\n",
    "from bagpy import bagreader\n",
    "import numpy as np\n",
    "import pandas as pd\n",
    "\n",
    "# Read the bag file\n",
    "bag = bagreader(r\"C:\\Users\\Bryan\\Desktop\\ece484\\Final_Project\\rosbag\\_2024-10-31-10-09-05.bag\")\n",
    "\n",
    "# Get list of topics\n",
    "print(bag.topic_table)\n",
    "\n",
    "# Read point cloud messages\n",
    "pointcloud_msgs = bag.message_by_topic('/ouster/points')  # adjust topic name as needed\n",
    "df_pointcloud = pd.read_csv(pointcloud_msgs)"
   ]
  },
  {
   "cell_type": "code",
   "execution_count": 53,
   "metadata": {},
   "outputs": [],
   "source": [
    "def parse_ouster_frame(row):\n",
    "    # Get binary data\n",
    "    binary_data = eval(row['data'])  # Convert string representation to bytes\n",
    "    \n",
    "    # Get dimensions\n",
    "    width = row['width']\n",
    "    height = row['height']\n",
    "    point_step = row['point_step']\n",
    "    \n",
    "    # Parse to float32 array\n",
    "    points = np.frombuffer(binary_data, dtype=np.float32)\n",
    "    \n",
    "    # Each point has 12 float32 values (48 bytes / 4 bytes per float32 = 12)\n",
    "    # Typically: x, y, z, intensity, t, reflectivity, ring, noise, range\n",
    "    points = points.reshape(-1, 12)\n",
    "    \n",
    "    # Get just x, y, z, intensity\n",
    "    xyz_intensity = points\n",
    "    \n",
    "    # Reshape to original lidar structure if needed\n",
    "    xyz_intensity = xyz_intensity.reshape(height, width, 12)\n",
    "    \n",
    "    return xyz_intensity"
   ]
  },
  {
   "cell_type": "code",
   "execution_count": 54,
   "metadata": {},
   "outputs": [],
   "source": [
    "# Process all frames\n",
    "frames = []\n",
    "timestamps = []\n",
    "\n",
    "for idx, row in df_pointcloud.iterrows():\n",
    "    frame = parse_ouster_frame(row)\n",
    "    frames.append(frame)\n",
    "    timestamps.append(row['Time'])\n",
    "\n",
    "# Convert to numpy array\n",
    "point_cloud_array = np.array(frames)\n",
    "timestamps = np.array(timestamps)"
   ]
  },
  {
   "cell_type": "code",
   "execution_count": 32,
   "metadata": {},
   "outputs": [],
   "source": [
    "point_cloud_array.shape\n",
    "first_frame = point_cloud_array[0]\n",
    "x = first_frame[:, :, 0]  # x coordinates\n",
    "y = first_frame[:, :, 1]  # y coordinates\n",
    "z = first_frame[:, :, 2]  # z coordinates\n",
    "intensity = first_frame[:, :, 3]  # intensity values"
   ]
  },
  {
   "cell_type": "code",
   "execution_count": 55,
   "metadata": {},
   "outputs": [
    {
     "data": {
      "text/plain": [
       "(355, 128, 1024, 12)"
      ]
     },
     "execution_count": 55,
     "metadata": {},
     "output_type": "execute_result"
    }
   ],
   "source": [
    "point_cloud_array.shape"
   ]
  },
  {
   "cell_type": "code",
   "execution_count": 56,
   "metadata": {},
   "outputs": [],
   "source": [
    "flattened_array = point_cloud_array.reshape(355, 131072,12)\n",
    "np.save('all_points.npy', flattened_array)"
   ]
  }
 ],
 "metadata": {
  "kernelspec": {
   "display_name": "lidar_env",
   "language": "python",
   "name": "python3"
  },
  "language_info": {
   "codemirror_mode": {
    "name": "ipython",
    "version": 3
   },
   "file_extension": ".py",
   "mimetype": "text/x-python",
   "name": "python",
   "nbconvert_exporter": "python",
   "pygments_lexer": "ipython3",
   "version": "3.8.20"
  }
 },
 "nbformat": 4,
 "nbformat_minor": 2
}
