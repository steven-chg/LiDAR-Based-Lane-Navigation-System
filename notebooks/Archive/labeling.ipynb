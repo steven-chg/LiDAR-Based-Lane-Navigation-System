{
 "cells": [
  {
   "cell_type": "code",
   "execution_count": 18,
   "metadata": {},
   "outputs": [],
   "source": [
    "import pptk\n",
    "import numpy as np"
   ]
  },
  {
   "cell_type": "code",
   "execution_count": 19,
   "metadata": {},
   "outputs": [],
   "source": [
    "# load point cloud  \n",
    "points = np.load('point_cloud_array.npy')\n",
    "xyz = points[:, :, :3]\n",
    "intensity = points[:,:, 4]"
   ]
  },
  {
   "cell_type": "code",
   "execution_count": 20,
   "metadata": {},
   "outputs": [
    {
     "data": {
      "text/plain": [
       "(355, 128, 1024, 12)"
      ]
     },
     "execution_count": 20,
     "metadata": {},
     "output_type": "execute_result"
    }
   ],
   "source": [
    "# point cloud has shape (frames, channels, points, attributes)\n",
    "points.shape"
   ]
  },
  {
   "cell_type": "code",
   "execution_count": 22,
   "metadata": {},
   "outputs": [],
   "source": [
    "# create the viewer with intensity as the color\n",
    "frame = 0\n",
    "u = pptk.viewer(points[frame,:,:,:3])\n",
    "u.attributes(points[frame,:,:,4].flatten())\n",
    "u.set(point_size = 0.01)"
   ]
  },
  {
   "cell_type": "code",
   "execution_count": null,
   "metadata": {},
   "outputs": [],
   "source": [
    "# save the selcted points (run this to save the current progress)\n",
    "selected_laneline = u.get('selected')"
   ]
  },
  {
   "cell_type": "code",
   "execution_count": 25,
   "metadata": {},
   "outputs": [],
   "source": [
    "# create the label array with shape of points in a single frame 128 x 1024 \n",
    "lane_line_label = np.zeros_like(points[0, :, :, 4].flatten())"
   ]
  },
  {
   "cell_type": "code",
   "execution_count": null,
   "metadata": {},
   "outputs": [],
   "source": [
    "# resume the selected lines on pptk viewer (optional)\n",
    "u.set(selected = selected_laneline)"
   ]
  },
  {
   "cell_type": "code",
   "execution_count": null,
   "metadata": {},
   "outputs": [],
   "source": [
    "# set the label array with the selected_laneline\n",
    "lane_line_label[selected_laneline] = 1\n",
    "# create a label folder if you have not\n",
    "np.save(f'label/lane_line_label_{frame}', lane_line_label)"
   ]
  }
 ],
 "metadata": {
  "kernelspec": {
   "display_name": "Python 3",
   "language": "python",
   "name": "python3"
  },
  "language_info": {
   "codemirror_mode": {
    "name": "ipython",
    "version": 3
   },
   "file_extension": ".py",
   "mimetype": "text/x-python",
   "name": "python",
   "nbconvert_exporter": "python",
   "pygments_lexer": "ipython3",
   "version": "3.7.0"
  }
 },
 "nbformat": 4,
 "nbformat_minor": 2
}
