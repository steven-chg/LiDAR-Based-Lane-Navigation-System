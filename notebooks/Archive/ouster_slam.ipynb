{
 "cells": [
  {
   "cell_type": "code",
   "execution_count": 132,
   "metadata": {},
   "outputs": [
    {
     "name": "stderr",
     "output_type": "stream",
     "text": [
      "INFO:root:Kiss-ICP voxel map size is 1 m\n"
     ]
    },
    {
     "name": "stdout",
     "output_type": "stream",
     "text": [
      "loading metadata from ['C:\\\\Users\\\\Bryan\\\\Desktop\\\\ece484\\\\Final_Project\\\\ouster_pcap\\\\2024117_1023_OS-1-128_122423000263.json']\n",
      "loading metadata from ['C:\\\\Users\\\\Bryan\\\\Desktop\\\\ece484\\\\Final_Project\\\\ouster_pcap\\\\2024117_1023_OS-1-128_122423000263.json']\n",
      "Processed frame 0/408\n",
      "Processed frame 10/408\n",
      "Processed frame 20/408\n",
      "Processed frame 30/408\n",
      "Processed frame 40/408\n",
      "Processed frame 50/408\n",
      "Processed frame 60/408\n",
      "Processed frame 70/408\n",
      "Processed frame 80/408\n",
      "Processed frame 90/408\n",
      "Processed frame 100/408\n",
      "Processed frame 110/408\n",
      "Processed frame 120/408\n",
      "Processed frame 130/408\n",
      "Processed frame 140/408\n",
      "Processed frame 150/408\n",
      "Processed frame 160/408\n",
      "Processed frame 170/408\n",
      "Processed frame 180/408\n",
      "Processed frame 190/408\n",
      "Processed frame 200/408\n",
      "Processed frame 210/408\n",
      "Processed frame 220/408\n",
      "Processed frame 230/408\n",
      "Processed frame 240/408\n",
      "Processed frame 250/408\n",
      "Processed frame 260/408\n",
      "Processed frame 270/408\n",
      "Processed frame 280/408\n",
      "Processed frame 290/408\n",
      "Processed frame 300/408\n",
      "Processed frame 310/408\n",
      "Processed frame 320/408\n",
      "Processed frame 330/408\n",
      "Processed frame 340/408\n",
      "Processed frame 350/408\n",
      "Processed frame 360/408\n",
      "Processed frame 370/408\n",
      "Processed frame 380/408\n",
      "Processed frame 390/408\n",
      "Processed frame 400/408\n"
     ]
    }
   ],
   "source": [
    "from ouster.sdk import open_source\n",
    "from ouster.sdk.mapping.slam import KissBackend\n",
    "import ouster.sdk.client as client\n",
    "import numpy as np\n",
    "\n",
    "# Open the PCAP file\n",
    "source_file_path = r\"C:\\Users\\Bryan\\Desktop\\ece484\\Final_Project\\ouster_pcap\\2024117_1023_OS-1-128_122423000263.pcap\"\n",
    "data_source = open_source(source_file_path, sensor_idx=-1)\n",
    "\n",
    "# Initialize SLAM\n",
    "slam = KissBackend(data_source.metadata, max_range=75, min_range=1, voxel_size=1.0)\n",
    "\n",
    "# Create xyz lookup table\n",
    "xyz_lut = client.XYZLut(data_source.metadata[0])\n",
    "\n",
    "# Initialize parameters\n",
    "n_channels = data_source.metadata[0].format.pixels_per_column\n",
    "n_points = data_source.metadata[0].format.columns_per_frame\n",
    "n_attributes = 7\n",
    "\n",
    "# Count frames and reinitialize\n",
    "frame_count = sum(1 for _ in data_source)\n",
    "data_source = open_source(source_file_path, sensor_idx=-1)\n",
    "\n",
    "# Initialize output array\n",
    "lidar_data = np.zeros((frame_count, n_channels, n_points, n_attributes))\n",
    "\n",
    "# Process each frame\n",
    "for frame_idx, scans in enumerate(data_source):\n",
    "    # Update SLAM\n",
    "    scans_w_poses = slam.update(scans)\n",
    "    if not scans_w_poses:\n",
    "        continue\n",
    "    \n",
    "    scan = scans_w_poses[0]\n",
    "    \n",
    "    # Get xyz points in sensor frame\n",
    "    xyz_points = xyz_lut(scan)  # (H x W x 3)\n",
    "    \n",
    "    # Get poses from SLAM for global coordinates\n",
    "    poses = scan.pose  # List of 1024 poses (one per column)\n",
    "    \n",
    "    # Transform points using SLAM poses\n",
    "    xyz_global = np.zeros_like(xyz_points)\n",
    "    for col in range(xyz_points.shape[1]):\n",
    "        pose = poses[col]  # Get pose for this column\n",
    "        points = xyz_points[:, col, :]  # Get points for this column (H x 3)\n",
    "        # Apply transformation: R * points + t\n",
    "        xyz_global[:, col, :] = (pose[:3, :3] @ points.T).T + pose[:3, 3]\n",
    "    \n",
    "    # Get other fields\n",
    "    ranges = scan.field(client.ChanField.RANGE)\n",
    "    reflectivity = scan.field(client.ChanField.REFLECTIVITY)\n",
    "    signal = scan.field(client.ChanField.SIGNAL)\n",
    "    near_ir = scan.field(client.ChanField.NEAR_IR)\n",
    "    \n",
    "    # Store data\n",
    "    lidar_data[frame_idx, :, :, 0:3] = xyz_global  # Global coordinates from SLAM\n",
    "    lidar_data[frame_idx, :, :, 3] = reflectivity\n",
    "    lidar_data[frame_idx, :, :, 4] = ranges\n",
    "    lidar_data[frame_idx, :, :, 5] = signal\n",
    "    lidar_data[frame_idx, :, :, 6] = near_ir\n",
    "    \n",
    "    if frame_idx % 10 == 0:\n",
    "        print(f\"Processed frame {frame_idx}/{frame_count}\")\n",
    "\n",
    "np.save(\"lidar_structured_data_global.npy\", lidar_data)"
   ]
  },
  {
   "cell_type": "code",
   "execution_count": 133,
   "metadata": {},
   "outputs": [
    {
     "data": {
      "text/plain": [
       "(408, 128, 1024, 7)"
      ]
     },
     "execution_count": 133,
     "metadata": {},
     "output_type": "execute_result"
    }
   ],
   "source": [
    "lidar_data.shape"
   ]
  }
 ],
 "metadata": {
  "kernelspec": {
   "display_name": "Python 3",
   "language": "python",
   "name": "python3"
  },
  "language_info": {
   "codemirror_mode": {
    "name": "ipython",
    "version": 3
   },
   "file_extension": ".py",
   "mimetype": "text/x-python",
   "name": "python",
   "nbconvert_exporter": "python",
   "pygments_lexer": "ipython3",
   "version": "3.9.6"
  }
 },
 "nbformat": 4,
 "nbformat_minor": 2
}
